{
 "cells": [
  {
   "cell_type": "markdown",
   "metadata": {},
   "source": [
    "> Projeto Desenvolve <br>\n",
    "Programação Intermediária com Python <br>\n",
    "Profa. Camila Laranjeira (mila@projetodesenvolve.com.br) <br>\n",
    "\n",
    "# 2.5 a 2.10 - Pilares da OO"
   ]
  },
  {
   "cell_type": "markdown",
   "metadata": {},
   "source": [
    "## Exercícios\n",
    "\n",
    "#### Q1.\n",
    "Essa lista de exercícios terá como base a classe `Evento` criada em exercícios anteriores. Primeiramente criaremos a classe abstrata `EventoABC` com os métodos de instância abstratos `__str__(self)` e `isConcluido(self)`, indicando que todos as subclasses que dela herdarem devem implementar esses métodos.\n",
    "\n",
    "`EventoABC` também possui os atributos `_titulo` (string) e `_descricao` (string), cujos valores são recebidos e inicializados no construtor da classe. Note a convenção de nomenclatura indicando o caráter privado desses atributos."
   ]
  },
  {
   "cell_type": "code",
   "execution_count": null,
   "metadata": {},
   "outputs": [],
   "source": [
    "\n",
    "from abc import ABC, abstractmethod\n",
    "\n",
    "class EventoABC(ABC):\n",
    "    def __init__(self, titulo, descricao):\n",
    "        self._titulo = titulo\n",
    "        self._descricao = descricao\n",
    "\n",
    "    @abstractmethod\n",
    "    def __str__(self):\n",
    "        pass\n",
    "\n",
    "    @abstractmethod\n",
    "    def isConcluido(self):\n",
    "        pass\n"
   ]
  },
  {
   "cell_type": "markdown",
   "metadata": {
    "vscode": {
     "languageId": "plaintext"
    }
   },
   "source": [
    "#### Q2.\n",
    "\n",
    "Crie a classe `DataHora` que dará suporte ao registro de eventos de calendário.\n",
    "* A classe possui o atributo de instância `_data_hora` (datetime) privado e um atributo de classe `FORMAT` inicializado com a formatação de string aceito para `_data_hora`, ou seja, `FORMAT = '%d/%m/%Y, %H:%M'`.\n",
    "* A classe **não possui construtor customizado**. A alteração de seu atributo se dará a partir da propriedade a seguir.\n",
    "* Crie a `property` `data_hora` para manipular o atributo `_data_hora`.\n",
    "    * O getter da propriedade deve retornar a data como uma string formatada (`%d/%m/%Y, %H:%M`). Use o atributo `FORMAT`. Consulte o [funcionamento do método `strftime`](https://www.programiz.com/python-programming/datetime/strftime).\n",
    "    * O setter da propriedade deve receber uma string de data formatada (`%d/%m/%Y, %H:%M`) e implementar um bloco try-except que tenta converter a string em `datetime` e lança um `ValueError` caso a entrada seja inválida. Use o atributo `FORMAT`. Consulte o [funcionamento do método `strptime`](https://www.digitalocean.com/community/tutorials/python-string-to-datetime-strptime).\n",
    "* Crie o método de instância `isPassado(self)` que avalia se a `_data_hora` é menor que `datetime.now()` (a data e hora atual) e retorna `True` em caso positivo, e `False` caso contrário.\n",
    "* Crie o método de instância `somaDias(self, num_dias)` que recebe um inteiro `num_dias`, soma esse valor ao atributo interno `_data_hora` e retorna a string formatada do resultado da soma (código dado a seguir).   \n",
    "```python\n",
    "data_hora_somada = self._data_hora + datetime.timedelta(days=num_dias)\n",
    "return data_hora_somada.strftime(FORMAT)\n",
    "```\n",
    "\n",
    "Teste a classe `DataHora` com o seguinte código (altere o que for necessário):\n",
    "```python\n",
    "# instanciando o objeto\n",
    "dh = DataHora()\n",
    "\n",
    "# definindo a data_hora através da propriedade\n",
    "dh.data_hora = '05/02/2024, 12:30'\n",
    "\n",
    "## editando a data_hora através da função somaDias\n",
    "dh.data_hora = dh.somaDias(30)\n",
    "\n",
    "## imprimindo a data_hora editada e se é passado\n",
    "print(dh.data_hora, dh.isPassado())\n",
    "```"
   ]
  },
  {
   "cell_type": "code",
   "execution_count": 1,
   "metadata": {},
   "outputs": [
    {
     "name": "stdout",
     "output_type": "stream",
     "text": [
      "06/03/2024, 12:30 True\n"
     ]
    }
   ],
   "source": [
    "from datetime import datetime, timedelta\n",
    "\n",
    "class DataHora:\n",
    "    FORMAT = '%d/%m/%Y, %H:%M'  # Formato para data e hora\n",
    "    \n",
    "    def __init__(self):\n",
    "        self._data_hora = None  # Atributo privado sem valor inicial\n",
    "        \n",
    "    @property\n",
    "    def data_hora(self):\n",
    "        if self._data_hora is None:\n",
    "            return None\n",
    "        return self._data_hora.strftime(self.FORMAT)  # Retorna data formatada como string\n",
    "\n",
    "    @data_hora.setter\n",
    "    def data_hora(self, nova_data_hora):\n",
    "        try:\n",
    "            # Tenta converter a string para datetime usando o formato definido\n",
    "            self._data_hora = datetime.strptime(nova_data_hora, self.FORMAT)\n",
    "        except ValueError:\n",
    "            raise ValueError(\"Formato de data/hora inválido. Use o formato correto: '%d/%m/%Y, %H:%M'\")\n",
    "    \n",
    "    def isPassado(self):\n",
    "        if self._data_hora is None:\n",
    "            return False\n",
    "        return self._data_hora < datetime.now()  # Verifica se a data é passada\n",
    "    \n",
    "    def somaDias(self, num_dias):\n",
    "        if self._data_hora is None:\n",
    "            raise ValueError(\"Data/hora não definida\")\n",
    "        # Adiciona o número de dias à data atual e retorna a data formatada\n",
    "        self._data_hora += timedelta(days=num_dias)\n",
    "        return self._data_hora.strftime(self.FORMAT)\n",
    "\n",
    "# Testando a classe DataHora\n",
    "dh = DataHora()\n",
    "\n",
    "# Definindo a data_hora através da propriedade\n",
    "dh.data_hora = '05/02/2024, 12:30'\n",
    "\n",
    "# Somando 30 dias à data atual\n",
    "dh.somaDias(30)\n",
    "\n",
    "# Imprimindo a data_hora editada e verificando se é passada\n",
    "print(dh.data_hora, dh.isPassado())\n"
   ]
  },
  {
   "cell_type": "markdown",
   "metadata": {},
   "source": [
    "#### Q3.\n",
    "Crie a classe `EventoUnico`:\n",
    "* A classe deve herdar de `EventoABC`.\n",
    "* Possui o atributo de instância `_data_hora` (classe `DataHora` que criamos previamente).\n",
    "* Seu construtor deve receber e inicializar os atributos da superclasse, além do valor de `_data_hora` recebido como uma string formatada (`%d/%m/%Y, %H:%M`). Note que para alterar `_data_hora` (objeto tipo `DataHora`), você deve manipular a propriedade interna da classe.\n",
    "*  Implementa os métodos abstratos da superclasse:\n",
    "    * Método `isConcluido()` que invoca o método `isPassado()` de `_data_hora` e retorna o seu resultado.\n",
    "    * Método `__str__` que imprime os atributos do evento na forma `\"Evento: _titulo, Data: _data_hora, Descrição: _descricao, Concluido: isConcluido()\"`. Note que `isConcluido()` é o método de avaliação implementado. \n",
    "* Crie o método de instância `editar_data_hora` que recebe uma string formatada e altera `_data_hora` (através de sua propriedade interna).\n",
    "    \n",
    "    \n",
    "Teste a classe `EventoUnico` com o seguinte código:\n",
    "```python\n",
    "# criar evento\n",
    "evento = EventoUnico('Reunião', 'Sala 302, prédio da esquina', '05/10/2023, 16:30')\n",
    "print(evento)\n",
    "\n",
    "# editar data do evento (através da propriedade)\n",
    "evento.editar_data_hora('05/10/2024, 16:30')\n",
    "print(evento)\n",
    "```"
   ]
  },
  {
   "cell_type": "code",
   "execution_count": 2,
   "metadata": {},
   "outputs": [],
   "source": [
    "+\n",
    "\n",
    "class EventoABC:\n",
    "    def __init__(self, titulo, descricao):\n",
    "        self._titulo = titulo\n",
    "        self._descricao = descricao\n",
    "    \n",
    "    def __str__(self):\n",
    "        raise NotImplementedError(\"Subclasses devem implementar o método __str__\")\n",
    "    \n",
    "    def isConcluido(self):\n",
    "        raise NotImplementedError(\"Subclasses devem implementar o método isConcluido\")\n",
    "\n",
    "class EventoUnico(EventoABC):\n",
    "    def __init__(self, titulo, descricao, data_hora_str):\n",
    "        super().__init__(titulo, descricao)\n",
    "        self._data_hora = DataHora()\n",
    "        self._data_hora.data_hora = data_hora_str  # Utiliza a propriedade data_hora para definir a data\n",
    "\n",
    "    def isConcluido(self):\n",
    "        return self._data_hora.isPassado()  # Verifica se o evento já passou\n",
    "\n",
    "    def __str__(self):\n",
    "        return f\"Evento: {self._titulo}, Data: {self._data_hora.data_hora}, Descrição: {self._descricao}, Concluido: {self.isConcluido()}\"\n",
    "\n",
    "    def editar_data_hora(self, nova_data_hora_str):\n",
    "        self._data_hora.data_hora = nova_data_hora_str  # Utiliza a propriedade para editar a data\n",
    "\n",
    "# Testando a classe EventoUnico\n",
    "evento = EventoUnico(\"Aniversário\", \"Festa de aniversário\", '05/02/2024, 12:30')\n",
    "\n",
    "# Imprimindo os detalhes do evento e se ele já está concluído\n",
    "print(evento)\n",
    "\n",
    "# Editando a data do evento\n",
    "evento.editar_data_hora('10/03/2024, 14:00')\n",
    "\n",
    "# Imprimindo novamente após a edição\n",
    "print(evento)\n"
   ]
  },
  {
   "cell_type": "markdown",
   "metadata": {},
   "source": [
    "#### Q3.\n",
    "Crie a classe `EventoRecorrente`:\n",
    "* A classe deve herdar de `EventoABC`.\n",
    "* Possui como atributo próprio uma lista privada de objetos `DataHora` (como você deve nomear o atributo?).\n",
    "* Seu construtor recebe os atributos da superclasse, além dos atributos `data_hora_inicial` (string formatada), `data_hora_final` (string formatada) e `intervalo_repeticao` (int), sendo o intervalo dado em dias. Preencha a coleção `DataHora` de acordo com o intervalo de repetição fornecido. Dica: crie o objeto `DataHora` inicial e use sua função interna `somaDias` para criar iterativamente as novas instâncias do intervalo até chegar em `DataHora` final. \n",
    "*  Implementa os métodos abstratos da superclasse:\n",
    "    * Método `isConcluido(indice)` que que invoca o método `isPassado()` do elemento `indice` da coleção de objetos `DataHora` e retorna seu resultado. \n",
    "    * Método `__str__` que imprime (em um laço) **todos as ocorrências `i` do evento** na forma `\"Evento: _titulo, Data: data_hora[i], Descrição: _descricao, Concluido: isConcluido(i)\"`. \n",
    "* Crie o método `editar_data_hora` que recebe `data_hora_antiga` e `data_hora_nova` e altera o elemento da coleção de objetos `DataHora` que corresponde a `data_hora_antiga` fornecida.    \n",
    "\n",
    "\n",
    "Teste a classe `EventoRecorrente` com o seguinte código:\n",
    "```python\n",
    "# criar evento\n",
    "eventos = EventoRecorrente(\n",
    "    'Reunião', 'Sala 302, prédio da esquina', \n",
    "    '05/01/2024, 16:30', '05/01/2025, 16:30', 30)\n",
    "\n",
    "# imprimir eventos\n",
    "print(eventos)\n",
    "\n",
    "# editar um dos eventos\n",
    "eventos.editar_data_hora('05/12/2024, 16:30', '05/12/2024, 11:30')\n",
    "\n",
    "# imprimir eventos\n",
    "print(eventos)\n",
    "```"
   ]
  },
  {
   "cell_type": "code",
   "execution_count": null,
   "metadata": {},
   "outputs": [],
   "source": []
  },
  {
   "cell_type": "markdown",
   "metadata": {},
   "source": [
    "#### Q4.\n",
    "\n",
    "Por fim, vamos só ver o polimorfismo em ação. Crie e preencha uma lista de eventos, sendo alguns do tipo `EventoUnico` e outros do tipo `EventoRecorrente`. Sobre essa lista, execute o laço de impressão a seguir:\n",
    "```python\n",
    "for evento in lista_eventos: print(evento)\n",
    "```\n",
    "A função `print` irá invocar o método especial `__str__` das classes correspondentes dependendo do tipo do objeto recebido. Aí está o polimorfismo :)"
   ]
  },
  {
   "cell_type": "code",
   "execution_count": 3,
   "metadata": {},
   "outputs": [
    {
     "ename": "NameError",
     "evalue": "name 'EventoABC' is not defined",
     "output_type": "error",
     "traceback": [
      "\u001b[1;31m---------------------------------------------------------------------------\u001b[0m",
      "\u001b[1;31mNameError\u001b[0m                                 Traceback (most recent call last)",
      "Cell \u001b[1;32mIn[3], line 2\u001b[0m\n\u001b[0;32m      1\u001b[0m \u001b[38;5;66;03m# Classe EventoUnico, assumindo que ela herda de EventoABC\u001b[39;00m\n\u001b[1;32m----> 2\u001b[0m \u001b[38;5;28;01mclass\u001b[39;00m \u001b[38;5;21;01mEventoUnico\u001b[39;00m(\u001b[43mEventoABC\u001b[49m):\n\u001b[0;32m      3\u001b[0m     \u001b[38;5;28;01mdef\u001b[39;00m \u001b[38;5;21m__init__\u001b[39m(\u001b[38;5;28mself\u001b[39m, titulo, descricao, data_hora_unica):\n\u001b[0;32m      4\u001b[0m         \u001b[38;5;28msuper\u001b[39m()\u001b[38;5;241m.\u001b[39m\u001b[38;5;21m__init__\u001b[39m(titulo, descricao)\n",
      "\u001b[1;31mNameError\u001b[0m: name 'EventoABC' is not defined"
     ]
    }
   ],
   "source": [
    "# Classe EventoUnico, assumindo que ela herda de EventoABC\n",
    "class EventoUnico(EventoABC):\n",
    "    def __init__(self, titulo, descricao, data_hora_unica):\n",
    "        super().__init__(titulo, descricao)\n",
    "        self.data_hora = DataHora(data_hora_unica)\n",
    "\n",
    "    def isConcluido(self, indice=0):  # O índice é irrelevante para eventos únicos\n",
    "        return self.data_hora.isPassado()\n",
    "\n",
    "    def __str__(self):\n",
    "        return (f\"Evento: {self._titulo}, Data: {self.data_hora}, \"\n",
    "                f\"Descrição: {self._descricao}, Concluído: {self.isConcluido()}\")\n",
    "\n",
    "# Criação de eventos\n",
    "evento_unico = EventoUnico('Palestra', 'Auditório 1', '10/10/2024, 14:00')\n",
    "evento_recorrente = EventoRecorrente(\n",
    "    'Reunião', 'Sala 302, prédio da esquina',\n",
    "    '05/01/2024, 16:30', '05/01/2025, 16:30', 30\n",
    ")\n",
    "\n",
    "# Lista de eventos\n",
    "lista_eventos = [evento_unico, evento_recorrente]\n",
    "\n",
    "# Polimorfismo em ação\n",
    "for evento in lista_eventos:\n",
    "    print(evento)\n"
   ]
  }
 ],
 "metadata": {
  "kernelspec": {
   "display_name": "Python 3",
   "language": "python",
   "name": "python3"
  },
  "language_info": {
   "codemirror_mode": {
    "name": "ipython",
    "version": 3
   },
   "file_extension": ".py",
   "mimetype": "text/x-python",
   "name": "python",
   "nbconvert_exporter": "python",
   "pygments_lexer": "ipython3",
   "version": "3.12.7"
  }
 },
 "nbformat": 4,
 "nbformat_minor": 2
}
