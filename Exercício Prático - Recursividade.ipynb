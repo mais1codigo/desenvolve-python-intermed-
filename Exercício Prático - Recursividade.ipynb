{
 "cells": [
  {
   "cell_type": "markdown",
   "id": "c87bc264",
   "metadata": {},
   "source": [
    "> Projeto Desenvolve <br>\n",
    "Programação Intermediária com Python <br>\n",
    "Profa. Camila Laranjeira (mila@projetodesenvolve.com.br) <br>\n",
    "\n",
    "# 1.1 - Recursividade"
   ]
  },
  {
   "cell_type": "markdown",
   "id": "02e47197",
   "metadata": {},
   "source": [
    "## Exercícios:\n",
    "\n",
    "#### **Q1**. \n",
    "Faça um procedimento recursivo que receba dois valores inteiros `a` e `b` e imprime o intervalo fechado entre eles. Se `a > b` imprima uma mensagem de erro.\n",
    "\n",
    "| Entrada |  Saída |\n",
    "| ------- | ------ |\n",
    "| 1 10    | 1 2 3 4 5 6 7 8 9 10 |\n",
    "| -5 1    | -5 -4 -3 -2 -1 |\n",
    "| 5 -5    | Valores invalidos |\n",
    "| 17 20   | 17 18 19 20 |"
   ]
  },
  {
   "cell_type": "code",
   "execution_count": 10,
   "id": "e89a9966",
   "metadata": {},
   "outputs": [],
   "source": [
    "def intervalo_fechado(a, b):\n",
    "    if a>b: print(f'{a} é maior do que {b}')\n",
    "    return\n",
    "\n",
    "    #caso base / cod de parada\n",
    "    if a == b:\n",
    "        print(a, end = ' ')\n",
    "\n",
    "    #passo recursivo\n",
    "    else: \n",
    "        print(a, end = ' ')\n",
    "        intervalo_fechado(a+1, b)\n",
    "\n",
    "intervalo_fechado(1, 10)\n",
    "\n"
   ]
  },
  {
   "cell_type": "markdown",
   "id": "b48196ed",
   "metadata": {},
   "source": [
    "---\n",
    "\n",
    "\n",
    "#### **Q2**. \n",
    "Mudando **apenas uma linha**, altere o código anterior para imprimir o intervalo invertido.\n",
    "\n",
    "| Entrada |  Saída |\n",
    "| ------- | ------ |\n",
    "| 1 10    | 10 9 8 7 6 5 4 3 2 1 |\n",
    "| -5 1    | -1 -2 -3 -4 -5 |\n",
    "| 5 -5    | Valores invalidos |\n",
    "| 17 20   | 20 19 18 17 |"
   ]
  },
  {
   "cell_type": "code",
   "execution_count": 15,
   "id": "4d0c21b4",
   "metadata": {},
   "outputs": [
    {
     "ename": "SyntaxError",
     "evalue": "parameter without a default follows parameter with a default (94872174.py, line 1)",
     "output_type": "error",
     "traceback": [
      "\u001b[1;36m  Cell \u001b[1;32mIn[15], line 1\u001b[1;36m\u001b[0m\n\u001b[1;33m    def intervalo_fechado(a=10, b):\u001b[0m\n\u001b[1;37m                                ^\u001b[0m\n\u001b[1;31mSyntaxError\u001b[0m\u001b[1;31m:\u001b[0m parameter without a default follows parameter with a default\n"
     ]
    }
   ],
   "source": [
    "def intervalo_fechado(a=10, b):\n",
    "\n",
    "    #caso base / cod de parada\n",
    "    if a == b:\n",
    "        print(a, end = ' ')\n",
    "        return\n",
    "\n",
    "    #passo recursivo\n",
    "    else: \n",
    "        intervalo_fechado(a+1, b)\n",
    "        print(a, end = ' ')\n",
    "\n",
    "\n",
    "        \n",
    "def intervalo_fechado_9(a=9, b):\n",
    "\n",
    "    #caso base / cod de parada\n",
    "    if a == b:\n",
    "        print(a, end = ' ')\n",
    "        return\n",
    "\n",
    "    #passo recursivo\n",
    "    else: \n",
    "        intervalo_fechado(a+1, b)\n",
    "        print(a, end = ' ')\n",
    "\n",
    "intervalo_fechado(1, 10)"
   ]
  },
  {
   "cell_type": "markdown",
   "id": "be727074",
   "metadata": {},
   "source": [
    "\n",
    "\n",
    "---\n",
    "\n",
    "\n",
    "#### **Q3**. \n",
    "Escreva uma função recursiva que recebe um inteiro `n > 1` e calcula a soma dos valores entre `n` e `1`.\n",
    "\n",
    "| Entrada |  Saída |\n",
    "| ------- | ------ |\n",
    "| 5   | 15 |\n",
    "| 13  | 78 |"
   ]
  },
  {
   "cell_type": "code",
   "execution_count": null,
   "id": "c4da98b8",
   "metadata": {},
   "outputs": [
    {
     "data": {
      "text/plain": [
       "91"
      ]
     },
     "execution_count": 2,
     "metadata": {},
     "output_type": "execute_result"
    }
   ],
   "source": [
    "def somatorio(n):\n",
    "\n",
    "    #caso base / cod de parada\n",
    "    if n == 1:\n",
    "        return n\n",
    "\n",
    "    #passo recursivo\n",
    "    else: \n",
    "        return n + somatorio(n-1)\n",
    "\n",
    "somatorio(5)\n",
    "\n",
    "def somatorio(n):\n",
    "\n",
    "    #caso base / cod de parada\n",
    "    if n == 1:\n",
    "        return n\n",
    "\n",
    "    #passo recursivo\n",
    "    else: \n",
    "        return n + somatorio(n-1)\n",
    "\n",
    "somatorio(13)"
   ]
  },
  {
   "cell_type": "markdown",
   "id": "4142b276",
   "metadata": {},
   "source": [
    "\n",
    "\n",
    "---\n",
    "\n",
    "\n",
    "#### **Q4**.  \n",
    "\n",
    "Escreva uma função recursiva que recebe um inteiro `n` e verifica se `n`é um valor primo, ou seja, se é divisível apenas por si mesmo e por `1`."
   ]
  },
  {
   "cell_type": "code",
   "execution_count": null,
   "id": "4c96eb2d",
   "metadata": {},
   "outputs": [],
   "source": [
    "def eh_primo(n, divisor=None):\n",
    "    if divisor is None:\n",
    "        divisor = n - 1  # Começa testando divisores a partir de n-1\n",
    "\n",
    "    if n < 2:  # Números menores que 2 não são primos\n",
    "        return False\n",
    "    \n",
    "    if divisor == 1:  # Quando chega no divisor 1, o número é primo\n",
    "        return True\n",
    "    \n",
    "    if n % divisor == 0:  # Se for divisível por um número diferente de 1 e ele mesmo, não é primo\n",
    "        return False\n",
    "    \n",
    "    return eh_primo(n, divisor - 1)  # Testa o próximo divisor\n"
   ]
  },
  {
   "cell_type": "markdown",
   "id": "2a0ae81c",
   "metadata": {},
   "source": [
    "\n",
    "\n",
    "---\n",
    "\n",
    "\n",
    "#### **Q5**. \n",
    "Implemente uma função recursiva que recebe um número inteiro decimal e retorna sua representação binária como uma string. Para realizar essa conversão, utilize o método de divisão sucessiva, onde você divide o número decimal por 2 e coleta os restos até que o quociente seja zero. A ordem dos restos coletados, de baixo para cima, forma o número binário correspondente.\n",
    "\n",
    "**Exemplo de Conversão:**\n",
    "\n",
    "Para converter o número decimal 13 para binário:\n",
    "```\n",
    "13 ÷ 2 = 6, resto 1\n",
    "6 ÷ 2 = 3, resto 0\n",
    "3 ÷ 2 = 1, resto 1\n",
    "1 ÷ 2 = 0, resto 1\n",
    "```\n",
    "Lendo os restos de baixo para cima, obtemos o número binário `1101`."
   ]
  },
  {
   "cell_type": "code",
   "execution_count": null,
   "id": "a7d954f0",
   "metadata": {},
   "outputs": [],
   "source": [
    "def decimal_para_binario(n):\n",
    "    if n == 0:\n",
    "        return \"0\"\n",
    "    if n == 1:\n",
    "        return \"1\"\n",
    "    return decimal_para_binario(n // 2) + str(n % 2)\n"
   ]
  },
  {
   "cell_type": "markdown",
   "id": "0f500709",
   "metadata": {},
   "source": [
    "\n",
    "\n",
    "---\n",
    "\n",
    "\n",
    "#### **Extra**: \n",
    "\n",
    "Implemente uma função recursiva em Python que realiza a travessia em pré-ordem de uma árvore binária representada por listas aninhadas. Na travessia em pré-ordem (ou pré-fixada), o nó raiz é visitado primeiro, seguido pela subárvore esquerda e, por fim, pela subárvore direita. A questão fixa as constantes `RAIZ_IDX, ESQ_IDX, DIR_IDX` representando os índices da lista onde se encontra o valor raíz, o nó a esquerda e o nó a direita.\n",
    "\n",
    "```\n",
    "# Representação visual da árvore\n",
    "       4\n",
    "      / \\\n",
    "     2   5\n",
    "    / \\\n",
    "   1   3\n",
    "```"
   ]
  },
  {
   "cell_type": "code",
   "execution_count": 9,
   "id": "10df4831",
   "metadata": {},
   "outputs": [],
   "source": [
    "# Constantes para os índices\n",
    "RAIZ_IDX, ESQ_IDX, DIR_IDX = 0, 1, 2\n",
    "\n",
    "def pre_ordem(arvore):\n",
    "    if arvore is None:\n",
    "        return []\n",
    "    \n",
    "    # Extrai o valor da raiz e as subárvores esquerda e direita\n",
    "    raiz = arvore[RAIZ_IDX]\n",
    "    esquerda = arvore[ESQ_IDX]\n",
    "    direita = arvore[DIR_IDX]\n",
    "\n",
    "    # Visita a raiz primeiro, depois a subárvore esquerda e, por fim, a subárvore direita\n",
    "    return [raiz] + pre_ordem(esquerda) + pre_ordem(direita)\n",
    "\n",
    "# Exemplo de uso\n",
    "arvore = [\n",
    "    4,  # raiz\n",
    "    [   # subárvore esquerda\n",
    "        2, \n",
    "        [1, None, None],  # subárvore esquerda da esquerda\n",
    "        [3, None, None]   # subárvore direita da esquerda\n",
    "    ],\n",
    "    [   # subárvore direita\n",
    "        5, \n",
    "        None,  # sem filho à esquerda\n",
    "        None   # sem filho à direita\n",
    "    ]\n",
    "]\n",
    "\n",
    "# Teste da função de pré-ordem\n",
    "resultado = pre_ordem(arvore)\n",
    "print(resultado)  # Saída: [4, 2, 1, 3, 5]\n",
    "`\n"
   ]
  }
 ],
 "metadata": {
  "kernelspec": {
   "display_name": "Python 3",
   "language": "python",
   "name": "python3"
  },
  "language_info": {
   "codemirror_mode": {
    "name": "ipython",
    "version": 3
   },
   "file_extension": ".py",
   "mimetype": "text/x-python",
   "name": "python",
   "nbconvert_exporter": "python",
   "pygments_lexer": "ipython3",
   "version": "3.12.2"
  }
 },
 "nbformat": 4,
 "nbformat_minor": 5
}
